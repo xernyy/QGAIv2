{
 "cells": [
  {
   "cell_type": "code",
   "execution_count": 1,
   "metadata": {},
   "outputs": [],
   "source": [
    "import PyPDF2\n",
    "import re\n",
    "import json"
   ]
  },
  {
   "cell_type": "code",
   "execution_count": 6,
   "metadata": {},
   "outputs": [],
   "source": [
    "import PyPDF2\n",
    "import re\n",
    "\n",
    "def extract_sections_from_pdf(pdf_path):\n",
    "    # Dictionary to store the extracted sections\n",
    "    extracted_sections = {}\n",
    "\n",
    "    # Open the PDF file in binary read mode\n",
    "    with open(pdf_path, 'rb') as file:\n",
    "        reader = PyPDF2.PdfFileReader(file)\n",
    "\n",
    "        # Loop through each page in the PDF\n",
    "        for page_num in range(reader.numPages):\n",
    "            page = reader.getPage(page_num)\n",
    "            page_text = page.extractText()\n",
    "\n",
    "            # Use regular expressions to search for the section headers and extract content accordingly\n",
    "            if re.search(r'♦ AIMS', page_text):\n",
    "                extracted_sections['AIMS'] = re.search(r'♦ AIMS(.*) *', page_text, re.DOTALL).group(1).strip()\n",
    "            if re.search(r'♦ FORMAT OF THE EXAMINATIONS', page_text):\n",
    "                extracted_sections['FORMAT OF THE EXAMINATIONS'] = re.search(r'♦ FORMAT OF THE EXAMINATIONS(.*) ♦', page_text, re.DOTALL).group(1).strip()\n",
    "#             if re.search(r'♦ SECTION 1 - COMPUTATION', page_text):\n",
    "#                 extracted_sections['SECTION 1 - COMPUTATION'] = re.search(r'♦ SECTION 1 - COMPUTATION(.*?)♦', page_text, re.DOTALL).group(1).strip()\n",
    "#             if re.search(r'♦ SECTION 2 - NUMBER THEORY', page_text):\n",
    "#                 extracted_sections['SECTION 2 - NUMBER THEORY'] = re.search(r'♦ SECTION 2 - NUMBER THEORY(.*?)♦', page_text, re.DOTALL).group(1).strip()\n",
    "#             if re.search(r'♦ SECTION 3 - CONSUMER ARITHMETIC', page_text):\n",
    "#                 extracted_sections['SECTION 3 - CONSUMER ARITHMETIC'] = re.search(r'♦ SECTION 3 - CONSUMER ARITHMETIC(.*?)♦', page_text, re.DOTALL).group(1).strip()\n",
    "#             if re.search(r'♦ SECTION 4 - SETS', page_text):\n",
    "#                 extracted_sections['SECTION 4 - SETS'] = re.search(r'♦ SECTION 4 - SETS(.*?)♦', page_text, re.DOTALL).group(1).strip()\n",
    "#             if re.search(r'♦ SECTION 5 - MEASUREMENT', page_text):\n",
    "#                 extracted_sections['SECTION 5 - MEASUREMENT'] = re.search(r'♦ SECTION 5 - MEASUREMENT(.*?)♦', page_text, re.DOTALL).group(1).strip()\n",
    "#             if re.search(r'♦ SECTION 6 - STATISTICS', page_text):\n",
    "#                 extracted_sections['SECTION 6 - STATISTICS'] = re.search(r'♦ SECTION 6 - STATISTICS(.*?)♦', page_text, re.DOTALL).group(1).strip()\n",
    "#             if re.search(r'♦ SECTION 7 - ALGEBRA', page_text):\n",
    "#                 extracted_sections['SECTION 7 - ALGEBRA'] = re.search(r'♦ SECTION 7 - ALGEBRA(.*?)♦', page_text, re.DOTALL).group(1).strip()\n",
    "#             if re.search(r'♦ SECTION 8 - RELATIONS, FUNCTIONS AND GRAPHS', page_text):\n",
    "#                 extracted_sections['SECTION 8 - RELATIONS, FUNCTIONS AND GRAPHS'] = re.search(r'♦ SECTION 8 - RELATIONS, FUNCTIONS AND GRAPHS(.*?)♦', page_text, re.DOTALL).group(1).strip()\n",
    "#             if re.search(r'♦ SECTION 9 - GEOMETRY AND TRIGONOMETRY', page_text):\n",
    "#                 extracted_sections['SECTION 9 - GEOMETRY AND TRIGONOMETRY'] = re.search(r'♦ SECTION 9 - GEOMETRY AND TRIGONOMETRY(.*?)♦', page_text, re.DOTALL).group(1).strip()\n",
    "#             if re.search(r'♦ SECTION 10 - VECTORS AND MATRICES', page_text):\n",
    "#                 extracted_sections['SECTION 10 - VECTORS AND MATRICES'] = re.search(r'♦ SECTION 10 - VECTORS AND MATRICES(.*?)♦', page_text, re.DOTALL).group(1).strip()\n",
    "#             if re.search(r'♦ GLOSSARY', page_text):\n",
    "#                 extracted_sections['GLOSSARY'] = re.search(r'♦ GLOSSARY(.*?)♦', page_text, re.DOTALL).group(1).strip()\n",
    "\n",
    "    return extracted_sections"
   ]
  },
  {
   "cell_type": "code",
   "execution_count": 7,
   "metadata": {},
   "outputs": [],
   "source": [
    "def save_to_json(data, json_path):\n",
    "    with open(json_path, 'w') as json_file:\n",
    "        json.dump(data, json_file, indent=4)"
   ]
  },
  {
   "cell_type": "code",
   "execution_count": 8,
   "metadata": {},
   "outputs": [],
   "source": [
    "def main():\n",
    "    pdf_path = 'C:/Users/xernm/OneDrive/Desktop/Projects/QGai/Data collection/CSEC Mathematics.pdf'\n",
    "    json_path = 'C:/Users/xernm/OneDrive/Desktop/Projects/QGai/Data collection/sections.json'\n",
    "\n",
    "    extracted_sections = extract_sections_from_pdf(pdf_path)\n",
    "\n",
    "    # Save the extracted sections to a JSON file\n",
    "    save_to_json(extracted_sections, json_path)\n",
    "\n",
    "    print(\"Sections extracted and saved to JSON file.\")"
   ]
  },
  {
   "cell_type": "code",
   "execution_count": 9,
   "metadata": {},
   "outputs": [
    {
     "name": "stdout",
     "output_type": "stream",
     "text": [
      "Sections extracted and saved to JSON file.\n"
     ]
    }
   ],
   "source": [
    "if __name__ == \"__main__\":\n",
    "    main()"
   ]
  },
  {
   "cell_type": "code",
   "execution_count": null,
   "metadata": {},
   "outputs": [],
   "source": []
  },
  {
   "cell_type": "code",
   "execution_count": null,
   "metadata": {},
   "outputs": [],
   "source": []
  }
 ],
 "metadata": {
  "kernelspec": {
   "display_name": "Python 3",
   "language": "python",
   "name": "python3"
  },
  "language_info": {
   "codemirror_mode": {
    "name": "ipython",
    "version": 3
   },
   "file_extension": ".py",
   "mimetype": "text/x-python",
   "name": "python",
   "nbconvert_exporter": "python",
   "pygments_lexer": "ipython3",
   "version": "3.7.4"
  }
 },
 "nbformat": 4,
 "nbformat_minor": 4
}
