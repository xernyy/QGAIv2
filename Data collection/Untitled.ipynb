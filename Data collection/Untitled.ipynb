{
 "cells": [
  {
   "cell_type": "code",
   "execution_count": 1,
   "metadata": {},
   "outputs": [],
   "source": [
    "import PyPDF2\n",
    "import re\n",
    "import json"
   ]
  },
  {
   "cell_type": "code",
   "execution_count": 95,
   "metadata": {
    "jupyter": {
     "source_hidden": true
    }
   },
   "outputs": [],
   "source": [
    "def extract_sections_from_pdf(pdf_path):\n",
    "    # Dictionary to store the extracted sections\n",
    "    extracted_sections = {}\n",
    "\n",
    "    # Open the PDF file in binary read mode\n",
    "    with open(pdf_path, 'rb') as file:\n",
    "        reader = PyPDF2.PdfFileReader(file)\n",
    "\n",
    "        # Loop through each page in the PDF\n",
    "        for page_num in range(reader.numPages):\n",
    "            page = reader.getPage(page_num)\n",
    "            page_text = page.extractText()\n",
    "\n",
    "            # Concatenate the text from each page into a single string\n",
    "            if page_num == 0:\n",
    "                full_text = page_text\n",
    "            else:\n",
    "                full_text += \" \" + page_text\n",
    "\n",
    "        # Use regular expressions to search for the section headers and extract content accordingly\n",
    "        if re.search(r'♦ AIMS', full_text):\n",
    "            extracted_sections['AIMS'] = re.search(r'♦ AIMS(.*?)♦', full_text, re.DOTALL).group(1).strip().replace(\"\\n\", \"\").replace(\"        CXC 05/G/SYLL 08  1\", \"\")\n",
    "        if re.search(r'♦ FORMAT', full_text):\n",
    "            extracted_sections['FORMAT'] = re.search(r'♦ FORMAT(.*?)♦', full_text, re.DOTALL).group(1).strip().replace(\"\\n\", \"\").replace(\"        CXC 05/G/SYLL 08\",\"\")\n",
    "        if re.search(r'♦ SECTION 1 ', full_text):\n",
    "            extracted_sections['SECTION 1 '] = re.search(r'♦ SECTION 1 (.*?)♦', full_text, re.DOTALL).group(1).strip().replace(\"\\n\", \"\").replace(\"        CXC 05/G/SYLL 08\",\"\")\n",
    "        if re.search(r'♦ SECTION 2 ', full_text):\n",
    "            extracted_sections['SECTION 2 '] = re.search(r'♦ SECTION 2 (.*?)♦', full_text, re.DOTALL).group(1).strip().replace(\"\\n\", \"\").replace(\"        CXC 05/G/SYLL 08\",\"\")\n",
    "        if re.search(r'♦ SECTION 3', full_text):\n",
    "            extracted_sections['SECTION 3'] = re.search(r'♦ SECTION 3(.*?)♦', full_text, re.DOTALL).group(1).strip().replace(\"\\n\", \"\").replace(\"        CXC 05/G/SYLL 08\",\"\")\n",
    "        if re.search(r'♦ SECTION 4', full_text):\n",
    "            extracted_sections['SECTION 4'] = re.search(r'♦ SECTION 4(.*?)♦', full_text, re.DOTALL).group(1).strip().replace(\"\\n\", \"\").replace(\"        CXC 05/G/SYLL 08\",\"\")\n",
    "        if re.search(r'♦ SECTION 5', full_text):\n",
    "            extracted_sections['SECTION 5'] = re.search(r'♦ SECTION 5(.*?)♦', full_text, re.DOTALL).group(1).strip().replace(\"\\n\", \"\").replace(\"        CXC 05/G/SYLL 08\",\"\")\n",
    "        if re.search(r'♦ SECTION 6', full_text):\n",
    "            extracted_sections['SECTION 6'] = re.search(r'♦ SECTION 6(.*?)♦', full_text, re.DOTALL).group(1).strip().replace(\"\\n\", \"\").replace(\"        CXC 05/G/SYLL 08\",\"\")\n",
    "        if re.search(r'♦ SECTION 7', full_text):\n",
    "            extracted_sections['SECTION 7'] = re.search(r'♦ SECTION 7(.*?)23', full_text, re.DOTALL).group(1).strip().replace(\"\\n\", \"\").replace(\"        CXC 05/G/SYLL 08\",\"\")\n",
    "#         if re.search(r'SECTION 8', full_text):\n",
    "#             extracted_sections['SECTION 8'] = re.search(r'SECTION 8(.*)24 \\n \\n', full_text, re.DOTALL).group(1).strip().replace(\"\\n\", \"\").replace(\"        CXC 05/G/SYLL 08\",\"\")\n",
    "        if re.search(r'♦ SECTION 9', full_text):\n",
    "            extracted_sections['SECTION 9'] = re.search(r'♦ SECTION 9(.*?)♦', full_text, re.DOTALL).group(1).strip().replace(\"\\n\", \"\").replace(\"        CXC 05/G/SYLL 08\",\"\")\n",
    "        if re.search(r'♦ SECTION 10', full_text):\n",
    "            extracted_sections['SECTION 10'] = re.search(r'♦ SECTION 10(.*?)♦', full_text, re.DOTALL).group(1).strip().replace(\"\\n\", \"\").replace(\"        CXC 05/G/SYLL 08\",\"\")   \n",
    "        if re.search(r'♦ GLOSSARY', full_text):\n",
    "            extracted_sections['GLOSSARY'] = re.search(r'♦ GLOSSARY(.*)W', full_text, re.DOTALL).group(1).strip().replace(\"\\n\", \"\").replace(\"        CXC 05/G/SYLL 08\",\"\")    \n",
    "\n",
    "    return extracted_sections"
   ]
  },
  {
   "cell_type": "code",
   "execution_count": 96,
   "metadata": {},
   "outputs": [],
   "source": [
    "def save_to_json(data, json_path):\n",
    "    with open(json_path, 'w') as json_file:\n",
    "        json.dump(data, json_file, indent=4)"
   ]
  },
  {
   "cell_type": "code",
   "execution_count": 97,
   "metadata": {},
   "outputs": [],
   "source": [
    "def main():\n",
    "    pdf_path = 'C:/Users/xernm/OneDrive/Desktop/Projects/QGai/Data collection/CSEC Mathematics.pdf'\n",
    "    json_path = 'C:/Users/xernm/OneDrive/Desktop/Projects/QGai/Data collection/sections.json'\n",
    "\n",
    "    extracted_sections = extract_sections_from_pdf(pdf_path)\n",
    "\n",
    "    # Save the extracted sections to a JSON file\n",
    "    save_to_json(extracted_sections, json_path)\n",
    "\n",
    "    print(\"Sections extracted and saved to JSON file.\")"
   ]
  },
  {
   "cell_type": "code",
   "execution_count": 98,
   "metadata": {},
   "outputs": [
    {
     "name": "stdout",
     "output_type": "stream",
     "text": [
      "Sections extracted and saved to JSON file.\n"
     ]
    }
   ],
   "source": [
    "if __name__ == \"__main__\":\n",
    "    main()"
   ]
  },
  {
   "cell_type": "code",
   "execution_count": null,
   "metadata": {},
   "outputs": [],
   "source": []
  },
  {
   "cell_type": "code",
   "execution_count": null,
   "metadata": {},
   "outputs": [],
   "source": []
  }
 ],
 "metadata": {
  "kernelspec": {
   "display_name": "Python 3",
   "language": "python",
   "name": "python3"
  },
  "language_info": {
   "codemirror_mode": {
    "name": "ipython",
    "version": 3
   },
   "file_extension": ".py",
   "mimetype": "text/x-python",
   "name": "python",
   "nbconvert_exporter": "python",
   "pygments_lexer": "ipython3",
   "version": "3.7.4"
  }
 },
 "nbformat": 4,
 "nbformat_minor": 4
}
